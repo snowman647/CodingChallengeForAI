{
 "cells": [
  {
   "cell_type": "markdown",
   "metadata": {
    "collapsed": true
   },
   "source": [
    "# Character Sequence to Sequence \n",
    "In this notebook, we'll build a model that takes in a sequence of letters, and outputs a sorted version of that sequence. We'll do that using what we've learned so far about Sequence to Sequence models.\n",
    "\n",
    "<img src=\"images/sequence-to-sequence.jpg\"/>\n",
    "\n",
    "\n",
    "## Dataset \n",
    "\n",
    "The dataset lives in the /data/ folder. At the moment, it is made up of the following files:\n",
    " * **letters_source.txt**: The list of input letter sequences. Each sequence is its own line. \n",
    " * **letters_target.txt**: The list of target sequences we'll use in the training process. Each sequence here is a response to the input sequence in letters_source.txt with the same line number."
   ]
  },
  {
   "cell_type": "code",
   "execution_count": 1,
   "metadata": {
    "collapsed": true,
    "scrolled": false
   },
   "outputs": [],
   "source": [
    "import helper\n",
    "if 0:\n",
    "    source_path = 'data/letters_source.txt'\n",
    "    target_path = 'data/letters_target.txt'\n",
    "else:\n",
    "    source_path = 'data/dataXs.txt'\n",
    "    target_path = 'data/dataYs.txt'\n",
    "    cross_path = 'data/dataCross.txt'\n",
    "    \n",
    "source_sentences = helper.load_data(source_path)\n",
    "target_sentences = helper.load_data(target_path)\n",
    "cross_sentences = helper.load_data(cross_path)"
   ]
  },
  {
   "cell_type": "markdown",
   "metadata": {},
   "source": [
    "Let's start by examining the current state of the dataset. `source_sentences` contains the entire input sequence file as text delimited by newline symbols."
   ]
  },
  {
   "cell_type": "code",
   "execution_count": 2,
   "metadata": {},
   "outputs": [
    {
     "data": {
      "text/plain": [
       "['cca',\n",
       " 'aa',\n",
       " 'a',\n",
       " 'aabb',\n",
       " 'a',\n",
       " 'cb',\n",
       " 'b',\n",
       " 'aaaaa',\n",
       " 'acaa',\n",
       " 'aaab',\n",
       " 'aaaa',\n",
       " 'a',\n",
       " 'aa',\n",
       " 'cc',\n",
       " '']"
      ]
     },
     "execution_count": 2,
     "metadata": {},
     "output_type": "execute_result"
    }
   ],
   "source": [
    "source_sentences[:50].split('\\n')"
   ]
  },
  {
   "cell_type": "markdown",
   "metadata": {},
   "source": [
    "`target_sentences` contains the entire output sequence file as text delimited by newline symbols.  Each line corresponds to the line from `source_sentences`.  `target_sentences` contains a sorted characters of the line."
   ]
  },
  {
   "cell_type": "code",
   "execution_count": 3,
   "metadata": {},
   "outputs": [
    {
     "data": {
      "text/plain": [
       "['<--++-.---><.->.', '..<->', '>.>', '.+>.-+--..-', '<<+-.>>', '+--']"
      ]
     },
     "execution_count": 3,
     "metadata": {},
     "output_type": "execute_result"
    }
   ],
   "source": [
    "target_sentences[:50].split('\\n')"
   ]
  },
  {
   "cell_type": "code",
   "execution_count": 4,
   "metadata": {},
   "outputs": [
    {
     "data": {
      "text/plain": [
       "['ccacbcc', 'aaaabbbbcc', 'bcaabbc', 'acccbbcc', 'abbbbbbbcc', 'aba']"
      ]
     },
     "execution_count": 4,
     "metadata": {},
     "output_type": "execute_result"
    }
   ],
   "source": [
    "cross_sentences[:50].split('\\n')"
   ]
  },
  {
   "cell_type": "markdown",
   "metadata": {},
   "source": [
    "## Preprocess\n",
    "To do anything useful with it, we'll need to turn the characters into a list of integers: "
   ]
  },
  {
   "cell_type": "code",
   "execution_count": 5,
   "metadata": {},
   "outputs": [
    {
     "name": "stdout",
     "output_type": "stream",
     "text": [
      "Example source sequence\n",
      "[[5, 5, 6], [6, 6], [6]]\n",
      "\n",
      "\n",
      "Example target sequence\n",
      "[[7, 5, 5, 6, 6, 5, 4, 5, 5, 5, 8, 7, 4, 5, 8, 4], [4, 4, 7, 5, 8], [8, 4, 8]]\n"
     ]
    }
   ],
   "source": [
    "def extract_character_vocab(data):\n",
    "    special_words = ['<pad>', '<unk>', '<s>',  '<\\s>']\n",
    "\n",
    "    set_words = set([character for line in data.split('\\n') for character in line])\n",
    "    int_to_vocab = {word_i: word for word_i, word in enumerate(special_words + list(set_words))}\n",
    "    vocab_to_int = {word: word_i for word_i, word in int_to_vocab.items()}\n",
    "\n",
    "    return int_to_vocab, vocab_to_int\n",
    "\n",
    "# Build int2letter and letter2int dicts\n",
    "source_int_to_letter, source_letter_to_int = extract_character_vocab(source_sentences)\n",
    "target_int_to_letter, target_letter_to_int = extract_character_vocab(target_sentences)\n",
    "\n",
    "# Convert characters to ids\n",
    "source_letter_ids = [[source_letter_to_int.get(letter, source_letter_to_int['<unk>']) for letter in line] for line in source_sentences.split('\\n')]\n",
    "target_letter_ids = [[target_letter_to_int.get(letter, target_letter_to_int['<unk>']) for letter in line] for line in target_sentences.split('\\n')]\n",
    "\n",
    "print(\"Example source sequence\")\n",
    "print(source_letter_ids[:3])\n",
    "print(\"\\n\")\n",
    "print(\"Example target sequence\")\n",
    "print(target_letter_ids[:3])"
   ]
  },
  {
   "cell_type": "markdown",
   "metadata": {},
   "source": [
    "The last step in the preprocessing stage is to determine the the longest sequence size in the dataset we'll be using, then pad all the sequences to that length."
   ]
  },
  {
   "cell_type": "code",
   "execution_count": 6,
   "metadata": {},
   "outputs": [
    {
     "name": "stdout",
     "output_type": "stream",
     "text": [
      "Sequence Length\n",
      "18\n",
      "\n",
      "\n",
      "Input sequence example\n",
      "[[5, 5, 6, 0, 0, 0, 0, 0, 0, 0, 0, 0, 0, 0, 0, 0, 0, 0], [6, 6, 0, 0, 0, 0, 0, 0, 0, 0, 0, 0, 0, 0, 0, 0, 0, 0], [6, 0, 0, 0, 0, 0, 0, 0, 0, 0, 0, 0, 0, 0, 0, 0, 0, 0]]\n",
      "\n",
      "\n",
      "Target sequence example\n",
      "[[7, 5, 5, 6, 6, 5, 4, 5, 5, 5, 8, 7, 4, 5, 8, 4, 0, 0], [4, 4, 7, 5, 8, 0, 0, 0, 0, 0, 0, 0, 0, 0, 0, 0, 0, 0], [8, 4, 8, 0, 0, 0, 0, 0, 0, 0, 0, 0, 0, 0, 0, 0, 0, 0]]\n"
     ]
    }
   ],
   "source": [
    "def pad_id_sequences(source_ids, source_letter_to_int, target_ids, target_letter_to_int, sequence_length):\n",
    "    new_source_ids = [sentence + [source_letter_to_int['<pad>']] * (sequence_length - len(sentence)) \\\n",
    "                      for sentence in source_ids]\n",
    "    new_target_ids = [sentence + [target_letter_to_int['<pad>']] * (sequence_length - len(sentence)) \\\n",
    "                      for sentence in target_ids]\n",
    "\n",
    "    return new_source_ids, new_target_ids\n",
    "\n",
    "\n",
    "# Use the longest sequence as sequence length\n",
    "sequence_length = max(\n",
    "        [len(sentence) for sentence in source_letter_ids] + [len(sentence) for sentence in target_letter_ids])\n",
    "\n",
    "# Pad all sequences up to sequence length\n",
    "source_ids, target_ids = pad_id_sequences(source_letter_ids, source_letter_to_int, \n",
    "                                          target_letter_ids, target_letter_to_int, sequence_length)\n",
    "\n",
    "print(\"Sequence Length\")\n",
    "print(sequence_length)\n",
    "print(\"\\n\")\n",
    "print(\"Input sequence example\")\n",
    "print(source_ids[:3])\n",
    "print(\"\\n\")\n",
    "print(\"Target sequence example\")\n",
    "print(target_ids[:3])"
   ]
  },
  {
   "cell_type": "markdown",
   "metadata": {},
   "source": [
    "This is the final shape we need them to be in. We can now proceed to building the model."
   ]
  },
  {
   "cell_type": "markdown",
   "metadata": {},
   "source": [
    "## Model\n",
    "#### Check the Version of TensorFlow\n",
    "This will check to make sure you have the correct version of TensorFlow"
   ]
  },
  {
   "cell_type": "code",
   "execution_count": 7,
   "metadata": {},
   "outputs": [
    {
     "name": "stdout",
     "output_type": "stream",
     "text": [
      "TensorFlow Version: 1.0.0\n"
     ]
    }
   ],
   "source": [
    "from distutils.version import LooseVersion\n",
    "import tensorflow as tf\n",
    "\n",
    "# Check TensorFlow Version\n",
    "assert LooseVersion(tf.__version__) >= LooseVersion('1.0'), 'Please use TensorFlow version 1.0 or newer'\n",
    "print('TensorFlow Version: {}'.format(tf.__version__))"
   ]
  },
  {
   "cell_type": "markdown",
   "metadata": {},
   "source": [
    "### Hyperparameters"
   ]
  },
  {
   "cell_type": "code",
   "execution_count": 8,
   "metadata": {
    "collapsed": true
   },
   "outputs": [],
   "source": [
    "# Number of Epochs\n",
    "epochs = 100\n",
    "# Batch Size\n",
    "batch_size = 128\n",
    "# RNN Size\n",
    "rnn_size = 50\n",
    "# Number of Layers\n",
    "num_layers = 2\n",
    "# Embedding Size\n",
    "encoding_embedding_size = 13\n",
    "decoding_embedding_size = 13\n",
    "# Learning Rate\n",
    "learning_rate = 0.001"
   ]
  },
  {
   "cell_type": "markdown",
   "metadata": {},
   "source": [
    "### Input"
   ]
  },
  {
   "cell_type": "code",
   "execution_count": 9,
   "metadata": {
    "collapsed": true
   },
   "outputs": [],
   "source": [
    "input_data = tf.placeholder(tf.int32, [batch_size, sequence_length])\n",
    "targets = tf.placeholder(tf.int32, [batch_size, sequence_length])\n",
    "lr = tf.placeholder(tf.float32)"
   ]
  },
  {
   "cell_type": "markdown",
   "metadata": {},
   "source": [
    "### Sequence to Sequence\n",
    "The decoder is probably the most complex part of this model. We need to declare a decoder for the training phase, and a decoder for the inference/prediction phase. These two decoders will share their parameters (so that all the weights and biases that are set during the training phase can be used when we deploy the model).\n",
    "\n",
    "\n",
    "First, we'll need to define the type of cell we'll be using for our decoder RNNs. We opted for LSTM.\n",
    "\n",
    "Then, we'll need to hookup a fully connected layer to the output of decoder. The output of this layer tells us which word the RNN is choosing to output at each time step.\n",
    "\n",
    "Let's first look at the inference/prediction decoder. It is the one we'll use when we deploy our chatbot to the wild (even though it comes second in the actual code).\n",
    "\n",
    "<img src=\"images/sequence-to-sequence-inference-decoder.png\"/>\n",
    "\n",
    "We'll hand our encoder hidden state to the inference decoder and have it process its output. TensorFlow handles most of the logic for us. We just have to use [`tf.contrib.seq2seq.simple_decoder_fn_inference`](https://www.tensorflow.org/api_docs/python/tf/contrib/seq2seq/simple_decoder_fn_inference) and [`tf.contrib.seq2seq.dynamic_rnn_decoder`](https://www.tensorflow.org/api_docs/python/tf/contrib/seq2seq/dynamic_rnn_decoder) and supply them with the appropriate inputs.\n",
    "\n",
    "Notice that the inference decoder feeds the output of each time step as an input to the next.\n",
    "\n",
    "As for the training decoder, we can think of it as looking like this:\n",
    "<img src=\"images/sequence-to-sequence-training-decoder.png\"/>\n",
    "\n",
    "The training decoder **does not** feed the output of each time step to the next. Rather, the inputs to the decoder time steps are the target sequence from the training dataset (the orange letters)."
   ]
  },
  {
   "cell_type": "markdown",
   "metadata": {},
   "source": [
    "### Encoding\n",
    "- Embed the input data using [`tf.contrib.layers.embed_sequence`](https://www.tensorflow.org/api_docs/python/tf/contrib/layers/embed_sequence)\n",
    "- Pass the embedded input into a stack of RNNs.  Save the RNN state and ignore the output."
   ]
  },
  {
   "cell_type": "code",
   "execution_count": 10,
   "metadata": {
    "collapsed": true
   },
   "outputs": [],
   "source": [
    "source_vocab_size = len(source_letter_to_int)\n",
    "\n",
    "# Encoder embedding\n",
    "enc_embed_input = tf.contrib.layers.embed_sequence(input_data, source_vocab_size, encoding_embedding_size)\n",
    "\n",
    "# Encoder\n",
    "enc_cell = tf.contrib.rnn.MultiRNNCell([tf.contrib.rnn.BasicLSTMCell(rnn_size)] * num_layers)\n",
    "_, enc_state = tf.nn.dynamic_rnn(enc_cell, enc_embed_input, dtype=tf.float32)"
   ]
  },
  {
   "cell_type": "markdown",
   "metadata": {},
   "source": [
    "### Process Decoding Input"
   ]
  },
  {
   "cell_type": "code",
   "execution_count": 11,
   "metadata": {},
   "outputs": [
    {
     "name": "stdout",
     "output_type": "stream",
     "text": [
      "Targets\n",
      "[[ 0  1  2  3  4  5  6  7  8  9 10 11 12 13 14 15 16 17]\n",
      " [18 19 20 21 22 23 24 25 26 27 28 29 30 31 32 33 34 35]]\n",
      "\n",
      "\n",
      "Processed Decoding Input\n",
      "[[ 2  0  1  2  3  4  5  6  7  8  9 10 11 12 13 14 15 16]\n",
      " [ 2 18 19 20 21 22 23 24 25 26 27 28 29 30 31 32 33 34]]\n"
     ]
    }
   ],
   "source": [
    "import numpy as np\n",
    "\n",
    "# Process the input we'll feed to the decoder\n",
    "ending = tf.strided_slice(targets, [0, 0], [batch_size, -1], [1, 1])\n",
    "dec_input = tf.concat([tf.fill([batch_size, 1], target_letter_to_int['<s>']), ending], 1)\n",
    "\n",
    "demonstration_outputs = np.reshape(range(batch_size * sequence_length), (batch_size, sequence_length))\n",
    "\n",
    "sess = tf.InteractiveSession()\n",
    "print(\"Targets\")\n",
    "print(demonstration_outputs[:2])\n",
    "print(\"\\n\")\n",
    "print(\"Processed Decoding Input\")\n",
    "print(sess.run(dec_input, {targets: demonstration_outputs})[:2])"
   ]
  },
  {
   "cell_type": "markdown",
   "metadata": {},
   "source": [
    "### Decoding\n",
    "- Embed the decoding input\n",
    "- Build the decoding RNNs\n",
    "- Build the output layer in the decoding scope, so the weight and bias can be shared between the training and inference decoders."
   ]
  },
  {
   "cell_type": "code",
   "execution_count": 12,
   "metadata": {
    "collapsed": true
   },
   "outputs": [],
   "source": [
    "target_vocab_size = len(target_letter_to_int)\n",
    "\n",
    "# Decoder Embedding\n",
    "dec_embeddings = tf.Variable(tf.random_uniform([target_vocab_size, decoding_embedding_size]))\n",
    "dec_embed_input = tf.nn.embedding_lookup(dec_embeddings, dec_input)\n",
    "\n",
    "# Decoder RNNs\n",
    "dec_cell = tf.contrib.rnn.MultiRNNCell([tf.contrib.rnn.BasicLSTMCell(rnn_size)] * num_layers)\n",
    "\n",
    "with tf.variable_scope(\"decoding\") as decoding_scope:\n",
    "    # Output Layer\n",
    "    output_fn = lambda x: tf.contrib.layers.fully_connected(x, target_vocab_size, None, scope=decoding_scope)"
   ]
  },
  {
   "cell_type": "markdown",
   "metadata": {},
   "source": [
    "#### Decoder During Training\n",
    "- Build the training decoder using [`tf.contrib.seq2seq.simple_decoder_fn_train`](https://www.tensorflow.org/api_docs/python/tf/contrib/seq2seq/simple_decoder_fn_train) and [`tf.contrib.seq2seq.dynamic_rnn_decoder`](https://www.tensorflow.org/api_docs/python/tf/contrib/seq2seq/dynamic_rnn_decoder).\n",
    "- Apply the output layer to the output of the training decoder"
   ]
  },
  {
   "cell_type": "code",
   "execution_count": 13,
   "metadata": {
    "collapsed": true
   },
   "outputs": [],
   "source": [
    "with tf.variable_scope(\"decoding\") as decoding_scope:\n",
    "    # Training Decoder\n",
    "    train_decoder_fn = tf.contrib.seq2seq.simple_decoder_fn_train(enc_state)\n",
    "    train_pred, _, _ = tf.contrib.seq2seq.dynamic_rnn_decoder(\n",
    "        dec_cell, train_decoder_fn, dec_embed_input, sequence_length, scope=decoding_scope)\n",
    "    \n",
    "    # Apply output function\n",
    "    train_logits =  output_fn(train_pred)"
   ]
  },
  {
   "cell_type": "markdown",
   "metadata": {},
   "source": [
    "#### Decoder During Inference\n",
    "- Reuse the weights the biases from the training decoder using [`tf.variable_scope(\"decoding\", reuse=True)`](https://www.tensorflow.org/api_docs/python/tf/variable_scope)\n",
    "- Build the inference decoder using [`tf.contrib.seq2seq.simple_decoder_fn_inference`](https://www.tensorflow.org/api_docs/python/tf/contrib/seq2seq/simple_decoder_fn_inference) and [`tf.contrib.seq2seq.dynamic_rnn_decoder`](https://www.tensorflow.org/api_docs/python/tf/contrib/seq2seq/dynamic_rnn_decoder).\n",
    " - The output function is applied to the output in this step "
   ]
  },
  {
   "cell_type": "code",
   "execution_count": 14,
   "metadata": {
    "collapsed": true
   },
   "outputs": [],
   "source": [
    "with tf.variable_scope(\"decoding\", reuse=True) as decoding_scope:\n",
    "    # Inference Decoder\n",
    "    infer_decoder_fn = tf.contrib.seq2seq.simple_decoder_fn_inference(\n",
    "        output_fn, enc_state, dec_embeddings, target_letter_to_int['<s>'], target_letter_to_int['<\\s>'], \n",
    "        sequence_length - 1, target_vocab_size)\n",
    "    inference_logits, _, _ = tf.contrib.seq2seq.dynamic_rnn_decoder(dec_cell, infer_decoder_fn, scope=decoding_scope)"
   ]
  },
  {
   "cell_type": "markdown",
   "metadata": {},
   "source": [
    "### Optimization\n",
    "Our loss function is [`tf.contrib.seq2seq.sequence_loss`](https://www.tensorflow.org/api_docs/python/tf/contrib/seq2seq/sequence_loss) provided by the tensor flow seq2seq module. It calculates a weighted cross-entropy loss for the output logits."
   ]
  },
  {
   "cell_type": "code",
   "execution_count": 15,
   "metadata": {
    "collapsed": true
   },
   "outputs": [],
   "source": [
    "# Loss function\n",
    "cost = tf.contrib.seq2seq.sequence_loss(\n",
    "    train_logits,\n",
    "    targets,\n",
    "    tf.ones([batch_size, sequence_length]))\n",
    "\n",
    "# Optimizer\n",
    "optimizer = tf.train.AdamOptimizer(lr)\n",
    "\n",
    "# Gradient Clipping\n",
    "gradients = optimizer.compute_gradients(cost)\n",
    "capped_gradients = [(tf.clip_by_value(grad, -1., 1.), var) for grad, var in gradients if grad is not None]\n",
    "train_op = optimizer.apply_gradients(capped_gradients)"
   ]
  },
  {
   "cell_type": "markdown",
   "metadata": {},
   "source": [
    "## Train\n",
    "We're now ready to train our model. If you run into OOM (out of memory) issues during training, try to decrease the batch_size."
   ]
  },
  {
   "cell_type": "code",
   "execution_count": 16,
   "metadata": {
    "collapsed": true
   },
   "outputs": [],
   "source": [
    "def check(marker, inputs):\n",
    "    from engine_machine import Machine\n",
    "    bingo = 0\n",
    "    amount = len(inputs)\n",
    "    for i,input_sentence in enumerate(inputs):\n",
    "\n",
    "        input_sentence = [source_letter_to_int.get(word, source_letter_to_int['<unk>']) for word in input_sentence.lower()]\n",
    "        input_sentence = input_sentence + [0] * (sequence_length - len(input_sentence))\n",
    "        batch_shell = np.zeros((batch_size, sequence_length))\n",
    "        batch_shell[0] = input_sentence\n",
    "        chatbot_logits = sess.run(inference_logits, {input_data: batch_shell})[0]\n",
    "\n",
    "        x = [source_int_to_letter[i] for i in input_sentence]\n",
    "        source = \"\".join(x).replace(\"<pad>\",\"\")\n",
    "\n",
    "        res = [target_int_to_letter[i] for i in np.argmax(chatbot_logits, 1)]\n",
    "        predicted =  \"\".join(res).replace(\"<pad>\",\"\")\n",
    "\n",
    "        m = Machine()\n",
    "        m.execute(predicted)\n",
    "\n",
    "        executed = m.results\n",
    "        #if i < 10:\n",
    "        #    print('{:>20} | {:<30} | {:<20}'.format(source, predicted, executed ))\n",
    "\n",
    "        if source == executed:\n",
    "            bingo+=1\n",
    "\n",
    "    print(\"{} SUCCESS = {}, {}%\".format(marker, bingo, float(bingo)/amount*100))"
   ]
  },
  {
   "cell_type": "code",
   "execution_count": 17,
   "metadata": {
    "scrolled": true
   },
   "outputs": [
    {
     "name": "stdout",
     "output_type": "stream",
     "text": [
      "Epoch   0 Batch  154/156 - Train Accuracy:  0.355, Validation Accuracy:  0.364, Loss:  1.470\n",
      "SOURCE SUCCESS = 0, 0.0%\n",
      "CROSS: SUCCESS = 0, 0.0%\n",
      "Epoch   1 Batch  154/156 - Train Accuracy:  0.328, Validation Accuracy:  0.374, Loss:  1.446\n",
      "SOURCE SUCCESS = 0, 0.0%\n",
      "CROSS: SUCCESS = 0, 0.0%\n",
      "Epoch   2 Batch  154/156 - Train Accuracy:  0.327, Validation Accuracy:  0.380, Loss:  1.433\n",
      "SOURCE SUCCESS = 0, 0.0%\n",
      "CROSS: SUCCESS = 1, 0.1%\n",
      "Epoch   3 Batch  154/156 - Train Accuracy:  0.319, Validation Accuracy:  0.362, Loss:  1.425\n",
      "SOURCE SUCCESS = 0, 0.0%\n",
      "CROSS: SUCCESS = 0, 0.0%\n",
      "Epoch   4 Batch  154/156 - Train Accuracy:  0.346, Validation Accuracy:  0.340, Loss:  1.410\n",
      "SOURCE SUCCESS = 0, 0.0%\n",
      "CROSS: SUCCESS = 0, 0.0%\n",
      "Epoch   5 Batch  154/156 - Train Accuracy:  0.352, Validation Accuracy:  0.323, Loss:  1.399\n",
      "SOURCE SUCCESS = 0, 0.0%\n",
      "CROSS: SUCCESS = 0, 0.0%\n",
      "Epoch   6 Batch  154/156 - Train Accuracy:  0.352, Validation Accuracy:  0.345, Loss:  1.392\n",
      "SOURCE SUCCESS = 0, 0.0%\n",
      "CROSS: SUCCESS = 0, 0.0%\n",
      "Epoch   7 Batch  154/156 - Train Accuracy:  0.331, Validation Accuracy:  0.374, Loss:  1.390\n",
      "SOURCE SUCCESS = 0, 0.0%\n",
      "CROSS: SUCCESS = 0, 0.0%\n",
      "Epoch   8 Batch  154/156 - Train Accuracy:  0.332, Validation Accuracy:  0.354, Loss:  1.383\n",
      "SOURCE SUCCESS = 0, 0.0%\n",
      "CROSS: SUCCESS = 0, 0.0%\n",
      "Epoch   9 Batch  154/156 - Train Accuracy:  0.339, Validation Accuracy:  0.356, Loss:  1.378\n",
      "SOURCE SUCCESS = 0, 0.0%\n",
      "CROSS: SUCCESS = 1, 0.1%\n",
      "Epoch  10 Batch  154/156 - Train Accuracy:  0.343, Validation Accuracy:  0.348, Loss:  1.371\n",
      "SOURCE SUCCESS = 0, 0.0%\n",
      "CROSS: SUCCESS = 0, 0.0%\n",
      "Epoch  11 Batch  154/156 - Train Accuracy:  0.338, Validation Accuracy:  0.345, Loss:  1.362\n",
      "SOURCE SUCCESS = 0, 0.0%\n",
      "CROSS: SUCCESS = 1, 0.1%\n",
      "Epoch  12 Batch  154/156 - Train Accuracy:  0.345, Validation Accuracy:  0.357, Loss:  1.353\n",
      "SOURCE SUCCESS = 0, 0.0%\n",
      "CROSS: SUCCESS = 1, 0.1%\n",
      "Epoch  13 Batch  154/156 - Train Accuracy:  0.349, Validation Accuracy:  0.363, Loss:  1.343\n",
      "SOURCE SUCCESS = 0, 0.0%\n",
      "CROSS: SUCCESS = 0, 0.0%\n",
      "Epoch  14 Batch  154/156 - Train Accuracy:  0.341, Validation Accuracy:  0.356, Loss:  1.335\n",
      "SOURCE SUCCESS = 0, 0.0%\n",
      "CROSS: SUCCESS = 2, 0.2%\n",
      "Epoch  15 Batch  154/156 - Train Accuracy:  0.354, Validation Accuracy:  0.362, Loss:  1.320\n",
      "SOURCE SUCCESS = 1, 0.1%\n",
      "CROSS: SUCCESS = 1, 0.1%\n",
      "Epoch  16 Batch  154/156 - Train Accuracy:  0.335, Validation Accuracy:  0.351, Loss:  1.290\n",
      "SOURCE SUCCESS = 7, 0.7000000000000001%\n",
      "CROSS: SUCCESS = 7, 0.7000000000000001%\n",
      "Epoch  17 Batch  154/156 - Train Accuracy:  0.326, Validation Accuracy:  0.374, Loss:  1.271\n",
      "SOURCE SUCCESS = 5, 0.5%\n",
      "CROSS: SUCCESS = 8, 0.8%\n",
      "Epoch  18 Batch  154/156 - Train Accuracy:  0.331, Validation Accuracy:  0.355, Loss:  1.256\n",
      "SOURCE SUCCESS = 16, 1.6%\n",
      "CROSS: SUCCESS = 10, 1.0%\n",
      "Epoch  19 Batch  154/156 - Train Accuracy:  0.319, Validation Accuracy:  0.359, Loss:  1.252\n",
      "SOURCE SUCCESS = 11, 1.0999999999999999%\n",
      "CROSS: SUCCESS = 5, 0.5%\n",
      "Epoch  20 Batch  154/156 - Train Accuracy:  0.316, Validation Accuracy:  0.393, Loss:  1.239\n",
      "SOURCE SUCCESS = 11, 1.0999999999999999%\n",
      "CROSS: SUCCESS = 7, 0.7000000000000001%\n",
      "Epoch  21 Batch  154/156 - Train Accuracy:  0.311, Validation Accuracy:  0.349, Loss:  1.230\n",
      "SOURCE SUCCESS = 17, 1.7000000000000002%\n",
      "CROSS: SUCCESS = 11, 1.0999999999999999%\n",
      "Epoch  22 Batch  154/156 - Train Accuracy:  0.314, Validation Accuracy:  0.384, Loss:  1.224\n",
      "SOURCE SUCCESS = 30, 3.0%\n",
      "CROSS: SUCCESS = 9, 0.8999999999999999%\n",
      "Epoch  23 Batch  154/156 - Train Accuracy:  0.315, Validation Accuracy:  0.352, Loss:  1.215\n",
      "SOURCE SUCCESS = 60, 6.0%\n",
      "CROSS: SUCCESS = 12, 1.2%\n",
      "Epoch  24 Batch  154/156 - Train Accuracy:  0.319, Validation Accuracy:  0.319, Loss:  1.207\n",
      "SOURCE SUCCESS = 58, 5.800000000000001%\n",
      "CROSS: SUCCESS = 15, 1.5%\n",
      "Epoch  25 Batch  154/156 - Train Accuracy:  0.307, Validation Accuracy:  0.382, Loss:  1.227\n",
      "SOURCE SUCCESS = 47, 4.7%\n",
      "CROSS: SUCCESS = 8, 0.8%\n",
      "Epoch  26 Batch  154/156 - Train Accuracy:  0.319, Validation Accuracy:  0.364, Loss:  1.194\n",
      "SOURCE SUCCESS = 69, 6.9%\n",
      "CROSS: SUCCESS = 20, 2.0%\n",
      "Epoch  27 Batch  154/156 - Train Accuracy:  0.329, Validation Accuracy:  0.384, Loss:  1.185\n",
      "SOURCE SUCCESS = 78, 7.8%\n",
      "CROSS: SUCCESS = 27, 2.7%\n",
      "Epoch  28 Batch  154/156 - Train Accuracy:  0.332, Validation Accuracy:  0.401, Loss:  1.175\n",
      "SOURCE SUCCESS = 99, 9.9%\n",
      "CROSS: SUCCESS = 26, 2.6%\n",
      "Epoch  29 Batch  154/156 - Train Accuracy:  0.325, Validation Accuracy:  0.387, Loss:  1.165\n",
      "SOURCE SUCCESS = 106, 10.6%\n",
      "CROSS: SUCCESS = 22, 2.1999999999999997%\n",
      "Epoch  30 Batch  154/156 - Train Accuracy:  0.324, Validation Accuracy:  0.375, Loss:  1.157\n",
      "SOURCE SUCCESS = 115, 11.5%\n",
      "CROSS: SUCCESS = 32, 3.2%\n",
      "Epoch  31 Batch  154/156 - Train Accuracy:  0.323, Validation Accuracy:  0.363, Loss:  1.148\n",
      "SOURCE SUCCESS = 130, 13.0%\n",
      "CROSS: SUCCESS = 40, 4.0%\n",
      "Epoch  32 Batch  154/156 - Train Accuracy:  0.321, Validation Accuracy:  0.355, Loss:  1.139\n",
      "SOURCE SUCCESS = 134, 13.4%\n",
      "CROSS: SUCCESS = 53, 5.3%\n",
      "Epoch  33 Batch  154/156 - Train Accuracy:  0.328, Validation Accuracy:  0.384, Loss:  1.131\n",
      "SOURCE SUCCESS = 168, 16.8%\n",
      "CROSS: SUCCESS = 51, 5.1%\n",
      "Epoch  34 Batch  154/156 - Train Accuracy:  0.321, Validation Accuracy:  0.392, Loss:  1.132\n",
      "SOURCE SUCCESS = 167, 16.7%\n",
      "CROSS: SUCCESS = 78, 7.8%\n",
      "Epoch  35 Batch  154/156 - Train Accuracy:  0.323, Validation Accuracy:  0.368, Loss:  1.119\n",
      "SOURCE SUCCESS = 200, 20.0%\n",
      "CROSS: SUCCESS = 104, 10.4%\n",
      "Epoch  36 Batch  154/156 - Train Accuracy:  0.324, Validation Accuracy:  0.365, Loss:  1.114\n",
      "SOURCE SUCCESS = 260, 26.0%\n",
      "CROSS: SUCCESS = 90, 9.0%\n",
      "Epoch  37 Batch  154/156 - Train Accuracy:  0.329, Validation Accuracy:  0.362, Loss:  1.108\n",
      "SOURCE SUCCESS = 285, 28.499999999999996%\n",
      "CROSS: SUCCESS = 105, 10.5%\n",
      "Epoch  38 Batch  154/156 - Train Accuracy:  0.322, Validation Accuracy:  0.378, Loss:  1.105\n",
      "SOURCE SUCCESS = 315, 31.5%\n",
      "CROSS: SUCCESS = 125, 12.5%\n",
      "Epoch  39 Batch  154/156 - Train Accuracy:  0.325, Validation Accuracy:  0.373, Loss:  1.101\n",
      "SOURCE SUCCESS = 329, 32.9%\n",
      "CROSS: SUCCESS = 131, 13.100000000000001%\n",
      "Epoch  40 Batch  154/156 - Train Accuracy:  0.325, Validation Accuracy:  0.382, Loss:  1.097\n",
      "SOURCE SUCCESS = 347, 34.699999999999996%\n",
      "CROSS: SUCCESS = 134, 13.4%\n",
      "Epoch  41 Batch  154/156 - Train Accuracy:  0.325, Validation Accuracy:  0.384, Loss:  1.093\n",
      "SOURCE SUCCESS = 324, 32.4%\n",
      "CROSS: SUCCESS = 130, 13.0%\n",
      "Epoch  42 Batch  154/156 - Train Accuracy:  0.322, Validation Accuracy:  0.384, Loss:  1.089\n",
      "SOURCE SUCCESS = 344, 34.4%\n",
      "CROSS: SUCCESS = 146, 14.6%\n",
      "Epoch  43 Batch  154/156 - Train Accuracy:  0.321, Validation Accuracy:  0.394, Loss:  1.087\n",
      "SOURCE SUCCESS = 324, 32.4%\n",
      "CROSS: SUCCESS = 146, 14.6%\n",
      "Epoch  44 Batch  154/156 - Train Accuracy:  0.320, Validation Accuracy:  0.385, Loss:  1.083\n",
      "SOURCE SUCCESS = 373, 37.3%\n",
      "CROSS: SUCCESS = 147, 14.7%\n",
      "Epoch  45 Batch  154/156 - Train Accuracy:  0.319, Validation Accuracy:  0.389, Loss:  1.080\n",
      "SOURCE SUCCESS = 379, 37.9%\n",
      "CROSS: SUCCESS = 146, 14.6%\n",
      "Epoch  46 Batch  154/156 - Train Accuracy:  0.319, Validation Accuracy:  0.381, Loss:  1.077\n",
      "SOURCE SUCCESS = 386, 38.6%\n",
      "CROSS: SUCCESS = 150, 15.0%\n",
      "Epoch  47 Batch  154/156 - Train Accuracy:  0.322, Validation Accuracy:  0.387, Loss:  1.074\n",
      "SOURCE SUCCESS = 375, 37.5%\n",
      "CROSS: SUCCESS = 158, 15.8%\n",
      "Epoch  48 Batch  154/156 - Train Accuracy:  0.318, Validation Accuracy:  0.390, Loss:  1.072\n",
      "SOURCE SUCCESS = 406, 40.6%\n",
      "CROSS: SUCCESS = 170, 17.0%\n",
      "Epoch  49 Batch  154/156 - Train Accuracy:  0.321, Validation Accuracy:  0.387, Loss:  1.070\n",
      "SOURCE SUCCESS = 451, 45.1%\n",
      "CROSS: SUCCESS = 171, 17.1%\n",
      "Epoch  50 Batch  154/156 - Train Accuracy:  0.324, Validation Accuracy:  0.382, Loss:  1.068\n",
      "SOURCE SUCCESS = 459, 45.9%\n",
      "CROSS: SUCCESS = 184, 18.4%\n",
      "Epoch  51 Batch  154/156 - Train Accuracy:  0.322, Validation Accuracy:  0.402, Loss:  1.066\n",
      "SOURCE SUCCESS = 453, 45.300000000000004%\n",
      "CROSS: SUCCESS = 184, 18.4%\n",
      "Epoch  52 Batch  154/156 - Train Accuracy:  0.323, Validation Accuracy:  0.395, Loss:  1.065\n",
      "SOURCE SUCCESS = 494, 49.4%\n",
      "CROSS: SUCCESS = 194, 19.400000000000002%\n",
      "Epoch  53 Batch  154/156 - Train Accuracy:  0.322, Validation Accuracy:  0.406, Loss:  1.067\n",
      "SOURCE SUCCESS = 530, 53.0%\n",
      "CROSS: SUCCESS = 232, 23.200000000000003%\n",
      "Epoch  54 Batch  154/156 - Train Accuracy:  0.332, Validation Accuracy:  0.403, Loss:  1.061\n"
     ]
    },
    {
     "name": "stdout",
     "output_type": "stream",
     "text": [
      "SOURCE SUCCESS = 552, 55.2%\n",
      "CROSS: SUCCESS = 242, 24.2%\n",
      "Epoch  55 Batch  154/156 - Train Accuracy:  0.329, Validation Accuracy:  0.410, Loss:  1.058\n",
      "SOURCE SUCCESS = 545, 54.50000000000001%\n",
      "CROSS: SUCCESS = 259, 25.900000000000002%\n",
      "Epoch  56 Batch  154/156 - Train Accuracy:  0.326, Validation Accuracy:  0.385, Loss:  1.055\n",
      "SOURCE SUCCESS = 616, 61.6%\n",
      "CROSS: SUCCESS = 293, 29.299999999999997%\n",
      "Epoch  57 Batch  154/156 - Train Accuracy:  0.322, Validation Accuracy:  0.407, Loss:  1.052\n",
      "SOURCE SUCCESS = 618, 61.8%\n",
      "CROSS: SUCCESS = 291, 29.099999999999998%\n",
      "Epoch  58 Batch  154/156 - Train Accuracy:  0.326, Validation Accuracy:  0.365, Loss:  1.049\n",
      "SOURCE SUCCESS = 640, 64.0%\n",
      "CROSS: SUCCESS = 324, 32.4%\n",
      "Epoch  59 Batch  154/156 - Train Accuracy:  0.322, Validation Accuracy:  0.396, Loss:  1.046\n",
      "SOURCE SUCCESS = 665, 66.5%\n",
      "CROSS: SUCCESS = 340, 34.0%\n",
      "Epoch  60 Batch  154/156 - Train Accuracy:  0.322, Validation Accuracy:  0.407, Loss:  1.042\n",
      "SOURCE SUCCESS = 688, 68.8%\n",
      "CROSS: SUCCESS = 346, 34.599999999999994%\n",
      "Epoch  61 Batch  154/156 - Train Accuracy:  0.322, Validation Accuracy:  0.370, Loss:  1.039\n",
      "SOURCE SUCCESS = 704, 70.39999999999999%\n",
      "CROSS: SUCCESS = 355, 35.5%\n",
      "Epoch  62 Batch  154/156 - Train Accuracy:  0.322, Validation Accuracy:  0.374, Loss:  1.037\n",
      "SOURCE SUCCESS = 680, 68.0%\n",
      "CROSS: SUCCESS = 379, 37.9%\n",
      "Epoch  63 Batch  154/156 - Train Accuracy:  0.322, Validation Accuracy:  0.376, Loss:  1.034\n",
      "SOURCE SUCCESS = 724, 72.39999999999999%\n",
      "CROSS: SUCCESS = 397, 39.7%\n",
      "Epoch  64 Batch  154/156 - Train Accuracy:  0.319, Validation Accuracy:  0.398, Loss:  1.033\n",
      "SOURCE SUCCESS = 747, 74.7%\n",
      "CROSS: SUCCESS = 400, 40.0%\n",
      "Epoch  65 Batch  154/156 - Train Accuracy:  0.316, Validation Accuracy:  0.400, Loss:  1.032\n",
      "SOURCE SUCCESS = 758, 75.8%\n",
      "CROSS: SUCCESS = 411, 41.099999999999994%\n",
      "Epoch  66 Batch  154/156 - Train Accuracy:  0.316, Validation Accuracy:  0.385, Loss:  1.026\n",
      "SOURCE SUCCESS = 699, 69.89999999999999%\n",
      "CROSS: SUCCESS = 367, 36.7%\n",
      "Epoch  67 Batch  154/156 - Train Accuracy:  0.316, Validation Accuracy:  0.402, Loss:  1.025\n",
      "SOURCE SUCCESS = 771, 77.10000000000001%\n",
      "CROSS: SUCCESS = 408, 40.8%\n",
      "Epoch  68 Batch  154/156 - Train Accuracy:  0.321, Validation Accuracy:  0.388, Loss:  1.023\n",
      "SOURCE SUCCESS = 788, 78.8%\n",
      "CROSS: SUCCESS = 438, 43.8%\n",
      "Epoch  69 Batch  154/156 - Train Accuracy:  0.319, Validation Accuracy:  0.395, Loss:  1.021\n",
      "SOURCE SUCCESS = 816, 81.6%\n",
      "CROSS: SUCCESS = 455, 45.5%\n",
      "Epoch  70 Batch  154/156 - Train Accuracy:  0.319, Validation Accuracy:  0.398, Loss:  1.019\n",
      "SOURCE SUCCESS = 804, 80.4%\n",
      "CROSS: SUCCESS = 481, 48.1%\n",
      "Epoch  71 Batch  154/156 - Train Accuracy:  0.319, Validation Accuracy:  0.394, Loss:  1.018\n",
      "SOURCE SUCCESS = 820, 82.0%\n",
      "CROSS: SUCCESS = 484, 48.4%\n",
      "Epoch  72 Batch  154/156 - Train Accuracy:  0.320, Validation Accuracy:  0.400, Loss:  1.018\n",
      "SOURCE SUCCESS = 828, 82.8%\n",
      "CROSS: SUCCESS = 501, 50.1%\n",
      "Epoch  73 Batch  154/156 - Train Accuracy:  0.322, Validation Accuracy:  0.409, Loss:  1.019\n",
      "SOURCE SUCCESS = 831, 83.1%\n",
      "CROSS: SUCCESS = 507, 50.7%\n",
      "Epoch  74 Batch  154/156 - Train Accuracy:  0.319, Validation Accuracy:  0.407, Loss:  1.013\n",
      "SOURCE SUCCESS = 819, 81.89999999999999%\n",
      "CROSS: SUCCESS = 516, 51.6%\n",
      "Epoch  75 Batch  154/156 - Train Accuracy:  0.315, Validation Accuracy:  0.412, Loss:  1.012\n",
      "SOURCE SUCCESS = 848, 84.8%\n",
      "CROSS: SUCCESS = 528, 52.800000000000004%\n",
      "Epoch  76 Batch  154/156 - Train Accuracy:  0.318, Validation Accuracy:  0.413, Loss:  1.013\n",
      "SOURCE SUCCESS = 848, 84.8%\n",
      "CROSS: SUCCESS = 515, 51.5%\n",
      "Epoch  77 Batch  154/156 - Train Accuracy:  0.317, Validation Accuracy:  0.417, Loss:  1.008\n",
      "SOURCE SUCCESS = 865, 86.5%\n",
      "CROSS: SUCCESS = 549, 54.900000000000006%\n",
      "Epoch  78 Batch  154/156 - Train Accuracy:  0.313, Validation Accuracy:  0.398, Loss:  1.006\n",
      "SOURCE SUCCESS = 876, 87.6%\n",
      "CROSS: SUCCESS = 578, 57.8%\n",
      "Epoch  79 Batch  154/156 - Train Accuracy:  0.312, Validation Accuracy:  0.402, Loss:  1.005\n",
      "SOURCE SUCCESS = 883, 88.3%\n",
      "CROSS: SUCCESS = 591, 59.099999999999994%\n",
      "Epoch  80 Batch  154/156 - Train Accuracy:  0.312, Validation Accuracy:  0.410, Loss:  1.004\n",
      "SOURCE SUCCESS = 905, 90.5%\n",
      "CROSS: SUCCESS = 601, 60.099999999999994%\n",
      "Epoch  81 Batch  154/156 - Train Accuracy:  0.312, Validation Accuracy:  0.411, Loss:  1.004\n",
      "SOURCE SUCCESS = 902, 90.2%\n",
      "CROSS: SUCCESS = 615, 61.5%\n",
      "Epoch  82 Batch  154/156 - Train Accuracy:  0.311, Validation Accuracy:  0.412, Loss:  1.003\n",
      "SOURCE SUCCESS = 889, 88.9%\n",
      "CROSS: SUCCESS = 628, 62.8%\n",
      "Epoch  83 Batch  154/156 - Train Accuracy:  0.312, Validation Accuracy:  0.414, Loss:  1.002\n",
      "SOURCE SUCCESS = 912, 91.2%\n",
      "CROSS: SUCCESS = 642, 64.2%\n",
      "Epoch  84 Batch  154/156 - Train Accuracy:  0.312, Validation Accuracy:  0.389, Loss:  1.003\n",
      "SOURCE SUCCESS = 927, 92.7%\n",
      "CROSS: SUCCESS = 643, 64.3%\n",
      "Epoch  85 Batch  154/156 - Train Accuracy:  0.311, Validation Accuracy:  0.390, Loss:  1.000\n",
      "SOURCE SUCCESS = 910, 91.0%\n",
      "CROSS: SUCCESS = 642, 64.2%\n",
      "Epoch  86 Batch  154/156 - Train Accuracy:  0.311, Validation Accuracy:  0.411, Loss:  1.001\n",
      "SOURCE SUCCESS = 881, 88.1%\n",
      "CROSS: SUCCESS = 624, 62.4%\n",
      "Epoch  87 Batch  154/156 - Train Accuracy:  0.312, Validation Accuracy:  0.391, Loss:  0.996\n",
      "SOURCE SUCCESS = 877, 87.7%\n",
      "CROSS: SUCCESS = 592, 59.199999999999996%\n",
      "Epoch  88 Batch  154/156 - Train Accuracy:  0.312, Validation Accuracy:  0.391, Loss:  0.996\n",
      "SOURCE SUCCESS = 897, 89.7%\n",
      "CROSS: SUCCESS = 640, 64.0%\n",
      "Epoch  89 Batch  154/156 - Train Accuracy:  0.310, Validation Accuracy:  0.417, Loss:  0.995\n",
      "SOURCE SUCCESS = 908, 90.8%\n",
      "CROSS: SUCCESS = 641, 64.1%\n",
      "Epoch  90 Batch  154/156 - Train Accuracy:  0.311, Validation Accuracy:  0.417, Loss:  0.993\n",
      "SOURCE SUCCESS = 903, 90.3%\n",
      "CROSS: SUCCESS = 658, 65.8%\n",
      "Epoch  91 Batch  154/156 - Train Accuracy:  0.312, Validation Accuracy:  0.414, Loss:  0.993\n",
      "SOURCE SUCCESS = 913, 91.3%\n",
      "CROSS: SUCCESS = 648, 64.8%\n",
      "Epoch  92 Batch  154/156 - Train Accuracy:  0.310, Validation Accuracy:  0.411, Loss:  0.993\n",
      "SOURCE SUCCESS = 925, 92.5%\n",
      "CROSS: SUCCESS = 658, 65.8%\n",
      "Epoch  93 Batch  154/156 - Train Accuracy:  0.310, Validation Accuracy:  0.405, Loss:  0.993\n",
      "SOURCE SUCCESS = 887, 88.7%\n",
      "CROSS: SUCCESS = 659, 65.9%\n",
      "Epoch  94 Batch  154/156 - Train Accuracy:  0.311, Validation Accuracy:  0.413, Loss:  0.993\n",
      "SOURCE SUCCESS = 924, 92.4%\n",
      "CROSS: SUCCESS = 650, 65.0%\n",
      "Epoch  95 Batch  154/156 - Train Accuracy:  0.313, Validation Accuracy:  0.409, Loss:  0.992\n",
      "SOURCE SUCCESS = 921, 92.10000000000001%\n",
      "CROSS: SUCCESS = 660, 66.0%\n",
      "Epoch  96 Batch  154/156 - Train Accuracy:  0.314, Validation Accuracy:  0.396, Loss:  0.987\n",
      "SOURCE SUCCESS = 893, 89.3%\n",
      "CROSS: SUCCESS = 645, 64.5%\n",
      "Epoch  97 Batch  154/156 - Train Accuracy:  0.312, Validation Accuracy:  0.409, Loss:  0.995\n",
      "SOURCE SUCCESS = 923, 92.30000000000001%\n",
      "CROSS: SUCCESS = 664, 66.4%\n",
      "Epoch  98 Batch  154/156 - Train Accuracy:  0.312, Validation Accuracy:  0.383, Loss:  0.996\n",
      "SOURCE SUCCESS = 927, 92.7%\n",
      "CROSS: SUCCESS = 656, 65.60000000000001%\n",
      "Epoch  99 Batch  154/156 - Train Accuracy:  0.314, Validation Accuracy:  0.414, Loss:  0.992\n",
      "SOURCE SUCCESS = 921, 92.10000000000001%\n",
      "CROSS: SUCCESS = 640, 64.0%\n"
     ]
    }
   ],
   "source": [
    "import numpy as np\n",
    "import random\n",
    "\n",
    "train_source = source_ids[batch_size:]\n",
    "train_target = target_ids[batch_size:]\n",
    "\n",
    "valid_source = source_ids[:batch_size]\n",
    "valid_target = target_ids[:batch_size]\n",
    "\n",
    "sess.run(tf.global_variables_initializer())\n",
    "txt = \"\"\n",
    "for epoch_i in range(epochs):\n",
    "    for batch_i, (source_batch, target_batch) in enumerate(\n",
    "            helper.batch_data(train_source, train_target, batch_size)):\n",
    "        _, loss = sess.run(\n",
    "            [train_op, cost],\n",
    "            {input_data: source_batch, targets: target_batch, lr: learning_rate})\n",
    "        batch_train_logits = sess.run(\n",
    "            inference_logits,\n",
    "            {input_data: source_batch})\n",
    "        batch_valid_logits = sess.run(\n",
    "            inference_logits,\n",
    "            {input_data: valid_source})\n",
    "\n",
    "        train_acc = np.mean(np.equal(target_batch, np.argmax(batch_train_logits, 2)))\n",
    "        valid_acc = np.mean(np.equal(valid_target, np.argmax(batch_valid_logits, 2)))\n",
    "    print('Epoch {:>3} Batch {:>4}/{} - Train Accuracy: {:>6.3f}, Validation Accuracy: {:>6.3f}, Loss: {:>6.3f}'\n",
    "              .format(epoch_i, batch_i, len(source_ids) // batch_size, train_acc, valid_acc, loss))\n",
    "    \n",
    "    inputs = source_sentences[:].split('\\n') #[\"a\",\"ab\",\"bb\",\"bca\",\"bbaacc\"]\n",
    "    inputs = random.sample(inputs,1000)\n",
    "    \n",
    "    check(\"SOURCE\",inputs)\n",
    "    check(\"CROSS:\",cross_sentences.split('\\n')[:1000])\n",
    "    "
   ]
  },
  {
   "cell_type": "markdown",
   "metadata": {},
   "source": [
    "## Prediction"
   ]
  },
  {
   "cell_type": "code",
   "execution_count": 18,
   "metadata": {},
   "outputs": [
    {
     "name": "stdout",
     "output_type": "stream",
     "text": [
      "                 cca | -..>.                          | cca                 \n",
      "                  aa | >..>>+>>>.+                    | aab                 \n",
      "                   a | .><<->>>+>.                    | aa                  \n",
      "                aabb | ..+..>-                        | aabb                \n",
      "                   a | .><<->>>+>.                    | aa                  \n",
      "                  cb | -.--.+-                        | ca                  \n",
      "                   b | --.--                          | b                   \n",
      "               aaaaa | .....>>+>>.                    | aaaaaa              \n",
      "                acaa | .-.+..>                        | acaa                \n",
      "                aaab | ...+.>+<+                      | aaab                \n",
      "LEARN SUCCESS = 18360, 91.79541022948852%\n",
      "             ccacbcc | -..<.-.-.-..                   | ccacbaa             \n",
      "          aaaabbbbcc | ....+....+..                   | aaaabbbbcc          \n",
      "             bcaabbc | +.+.+..+..+.                   | bcaabbc             \n",
      "            acccbbcc | .-...-..+..                    | acccbbcc            \n",
      "          abbbbbbbcc | .+........-.                   | abbbbbbbba          \n",
      "            ababaaca | .+.>.-.+.-.+.-.                | abacacac            \n",
      "           aabbcaccc | ..+..+.-.-...                  | aabbcbaaa           \n",
      "            acccbccb | .-...-.+..-.+<+                | acccbccb            \n",
      "            cccaaccb | -...+..-..-.+                  | cccaaccb            \n",
      "           acccbbccc | .-...-...+..+                  | acccbbbcc           \n",
      "CROSS SUCCESS = 1233, 61.6191904047976%\n"
     ]
    }
   ],
   "source": [
    "def predict(marker, inputs):\n",
    "    from engine_machine import Machine\n",
    "    bingo = 0\n",
    "    amount = len(inputs)\n",
    "\n",
    "    for i,input_sentence in enumerate(inputs):\n",
    "\n",
    "        input_sentence = [source_letter_to_int.get(word, source_letter_to_int['<unk>']) for word in input_sentence.lower()]\n",
    "        input_sentence = input_sentence + [0] * (sequence_length - len(input_sentence))\n",
    "        batch_shell = np.zeros((batch_size, sequence_length))\n",
    "        batch_shell[0] = input_sentence\n",
    "        chatbot_logits = sess.run(inference_logits, {input_data: batch_shell})[0]\n",
    "\n",
    "        x = [source_int_to_letter[i] for i in input_sentence]\n",
    "        source = \"\".join(x).replace(\"<pad>\",\"\")\n",
    "\n",
    "        res = [target_int_to_letter[i] for i in np.argmax(chatbot_logits, 1)]\n",
    "        predicted =  \"\".join(res).replace(\"<pad>\",\"\")\n",
    "\n",
    "        m = Machine()\n",
    "        m.execute(predicted)\n",
    "\n",
    "        executed = m.results\n",
    "        if i < 10:\n",
    "            print('{:>20} | {:<30} | {:<20}'.format(source, predicted, executed ))\n",
    "\n",
    "        if source == executed:\n",
    "            bingo+=1\n",
    "\n",
    "    print(\"{} SUCCESS = {}, {}%\".format(marker,bingo,float(bingo)/amount*100))\n",
    "    \n",
    "inputs = source_sentences[:].split('\\n')\n",
    "predict(\"LEARN\",inputs)\n",
    "\n",
    "predict(\"CROSS\",cross_sentences.split('\\n'))"
   ]
  },
  {
   "cell_type": "code",
   "execution_count": null,
   "metadata": {
    "collapsed": true
   },
   "outputs": [],
   "source": []
  }
 ],
 "metadata": {
  "anaconda-cloud": {},
  "kernelspec": {
   "display_name": "Python 3",
   "language": "python",
   "name": "python3"
  },
  "language_info": {
   "codemirror_mode": {
    "name": "ipython",
    "version": 3
   },
   "file_extension": ".py",
   "mimetype": "text/x-python",
   "name": "python",
   "nbconvert_exporter": "python",
   "pygments_lexer": "ipython3",
   "version": "3.6.1"
  }
 },
 "nbformat": 4,
 "nbformat_minor": 1
}
